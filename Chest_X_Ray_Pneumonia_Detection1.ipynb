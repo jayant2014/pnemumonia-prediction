{
  "nbformat": 4,
  "nbformat_minor": 0,
  "metadata": {
    "colab": {
      "name": "Chest X-Ray Pneumonia Detection.ipynb",
      "provenance": [],
      "collapsed_sections": [],
      "toc_visible": true,
      "include_colab_link": true
    },
    "kernelspec": {
      "name": "python3",
      "display_name": "Python 3"
    },
    "accelerator": "GPU"
  },
  "cells": [
    {
      "cell_type": "markdown",
      "metadata": {
        "id": "view-in-github",
        "colab_type": "text"
      },
      "source": [
        "<a href=\"https://colab.research.google.com/github/jayant2014/pnemumonia-prediction/blob/master/Chest_X_Ray_Pneumonia_Detection1.ipynb\" target=\"_parent\"><img src=\"https://colab.research.google.com/assets/colab-badge.svg\" alt=\"Open In Colab\"/></a>"
      ]
    },
    {
      "cell_type": "code",
      "metadata": {
        "id": "FcteAFvqEuI9",
        "colab_type": "code",
        "colab": {
          "base_uri": "https://localhost:8080/",
          "height": 116
        },
        "outputId": "00bbc915-9105-467c-d74f-f6a805bd5e35"
      },
      "source": [
        "from keras.layers import Input, Lambda, Dense, Flatten\n",
        "from keras.models import Model\n",
        "from keras.applications.vgg16 import VGG16\n",
        "from keras.applications.vgg16 import preprocess_input\n",
        "from keras.preprocessing import image\n",
        "from keras.preprocessing.image import ImageDataGenerator\n",
        "from keras.models import Sequential\n",
        "import numpy as np\n",
        "from glob import glob\n",
        "import matplotlib.pyplot as plt"
      ],
      "execution_count": 1,
      "outputs": [
        {
          "output_type": "stream",
          "text": [
            "Using TensorFlow backend.\n"
          ],
          "name": "stderr"
        }
      ]
    },
    {
      "cell_type": "code",
      "metadata": {
        "id": "sohzM54qE75V",
        "colab_type": "code",
        "colab": {
          "base_uri": "https://localhost:8080/",
          "height": 232
        },
        "outputId": "e2f08bb0-2dbb-4488-b8f3-5abd724ab574"
      },
      "source": [
        "from google.colab import drive\n",
        "drive.mount('/content/drive')"
      ],
      "execution_count": 2,
      "outputs": [
        {
          "output_type": "stream",
          "text": [
            "Go to this URL in a browser: https://accounts.google.com/o/oauth2/auth?client_id=947318989803-6bn6qk8qdgf4n4g3pfee6491hc0brc4i.apps.googleusercontent.com&redirect_uri=urn%3Aietf%3Awg%3Aoauth%3A2.0%3Aoob&scope=email%20https%3A%2F%2Fwww.googleapis.com%2Fauth%2Fdocs.test%20https%3A%2F%2Fwww.googleapis.com%2Fauth%2Fdrive%20https%3A%2F%2Fwww.googleapis.com%2Fauth%2Fdrive.photos.readonly%20https%3A%2F%2Fwww.googleapis.com%2Fauth%2Fpeopleapi.readonly&response_type=code\n",
            "\n",
            "Enter your authorization code:\n",
            "··········\n",
            "Mounted at /content/drive\n"
          ],
          "name": "stdout"
        }
      ]
    },
    {
      "cell_type": "markdown",
      "metadata": {
        "id": "AEblvomY9NHk",
        "colab_type": "text"
      },
      "source": [
        "##Load Data##"
      ]
    },
    {
      "cell_type": "code",
      "metadata": {
        "id": "xQMHx-k9-jZ9",
        "colab_type": "code",
        "colab": {}
      },
      "source": [
        "import os\n",
        "from pathlib import Path\n",
        "from zipfile import ZipFile"
      ],
      "execution_count": 0,
      "outputs": []
    },
    {
      "cell_type": "code",
      "metadata": {
        "id": "EM05ElY19Vqs",
        "colab_type": "code",
        "colab": {
          "base_uri": "https://localhost:8080/",
          "height": 1000
        },
        "outputId": "ab6a55c4-a7c7-4400-ac7a-2a6449efd33d"
      },
      "source": [
        "os.environ['KAGGLE_USERNAME'] = \"jayant2014\" \n",
        "os.environ['KAGGLE_KEY'] = \"4689e2492d427c5822d6e8c0a86ed2af\" \n",
        "!kaggle datasets download -d paultimothymooney/chest-xray-pneumonia"
      ],
      "execution_count": 4,
      "outputs": [
        {
          "output_type": "stream",
          "text": [
            "Downloading chest-xray-pneumonia.zip to /content\n",
            "100% 2.29G/2.29G [00:21<00:00, 166MB/s]\n",
            "100% 2.29G/2.29G [00:21<00:00, 115MB/s]\n"
          ],
          "name": "stdout"
        }
      ]
    },
    {
      "cell_type": "code",
      "metadata": {
        "id": "pPdN_KSC_WPO",
        "colab_type": "code",
        "colab": {}
      },
      "source": [
        "# Extract the zip file\n",
        "zf = ZipFile('chest-xray-pneumonia.zip', 'r')\n",
        "zf.extractall()\n",
        "zf.close()"
      ],
      "execution_count": 0,
      "outputs": []
    },
    {
      "cell_type": "code",
      "metadata": {
        "id": "x6wpWevw_nkh",
        "colab_type": "code",
        "colab": {
          "base_uri": "https://localhost:8080/",
          "height": 228
        },
        "outputId": "59da7f8c-a9ab-40eb-901b-87e177dd129c"
      },
      "source": [
        "!ls /content/"
      ],
      "execution_count": 10,
      "outputs": [
        {
          "output_type": "stream",
          "text": [
            "chest_xray  chest-xray-pneumonia.zip  drive  sample_data\n"
          ],
          "name": "stdout"
        }
      ]
    },
    {
      "cell_type": "code",
      "metadata": {
        "id": "N1tSsx_t__-l",
        "colab_type": "code",
        "colab": {
          "base_uri": "https://localhost:8080/",
          "height": 488
        },
        "outputId": "08c73cc9-a1f5-4b25-f10d-d5986f525bba"
      },
      "source": [
        "!ls /content/chest_xray\n",
        "!ls /content/chest_xray/train\n",
        "!ls /content/chest_xray/test/NORMAL | head -n 5\n",
        "!ls /content/chest_xray/test/PNEUMONIA | head -n 5"
      ],
      "execution_count": 11,
      "outputs": [
        {
          "output_type": "stream",
          "text": [
            "chest_xray  __MACOSX  test  train  val\n",
            "NORMAL\tPNEUMONIA\n",
            "IM-0001-0001.jpeg\n",
            "IM-0003-0001.jpeg\n",
            "IM-0005-0001.jpeg\n",
            "IM-0006-0001.jpeg\n",
            "IM-0007-0001.jpeg\n",
            "person100_bacteria_475.jpeg\n",
            "person100_bacteria_477.jpeg\n",
            "person100_bacteria_478.jpeg\n",
            "person100_bacteria_479.jpeg\n",
            "person100_bacteria_480.jpeg\n"
          ],
          "name": "stdout"
        }
      ]
    },
    {
      "cell_type": "code",
      "metadata": {
        "id": "o5OPeSC9FIk5",
        "colab_type": "code",
        "colab": {
          "base_uri": "https://localhost:8080/",
          "height": 148
        },
        "outputId": "d13e2d36-ce59-4864-e909-8ffb2486c6e1"
      },
      "source": [
        "train_path = \"/content/chest_xray/train/\"\n",
        "test_path = \"/content/chest_xray/test/\"\n",
        "val_path = \"/content/chest_xray/val/\"\n",
        "\n",
        "# useful for getting number of classes\n",
        "folders = glob('/content/chest_xray/train/*')\n",
        "\n",
        "norm = 'NORMAL'\n",
        "pnem = 'PNEUMONIA'\n",
        "\n",
        "# Training Samples\n",
        "# Number of chest X-RAYS which show Pneumonia\n",
        "P = Path(train_path + norm + \"/\")\n",
        "temp = list(P.glob(\"*.jpeg\"))\n",
        "print(\"Pneumonia Training Samples - %i \" % len(temp))\n",
        "\n",
        "# Number of chest X-RAYS which are normal\n",
        "P = P = Path(train_path + pnem + \"/\")\n",
        "temp = list(P.glob(\"*.jpeg\"))\n",
        "print(\"Normal Training Samples - %i \" % len(temp))\n",
        "\n",
        "# Testing Samples\n",
        "# Number of chest X-RAYS which show Pneumonia\n",
        "P = Path(test_path + norm + \"/\")\n",
        "temp = list(P.glob(\"*.jpeg\"))\n",
        "print(\"Pneumonia Testing Samples - %i \" % len(temp))\n",
        "\n",
        "# Number of chest X-RAYS which are normal\n",
        "P = P = Path(test_path + pnem + \"/\")\n",
        "temp = list(P.glob(\"*.jpeg\"))\n",
        "print(\"Normal Testing Samples - %i \" % len(temp))\n",
        "\n",
        "IMAGE_SIZE = [224, 224]"
      ],
      "execution_count": 12,
      "outputs": [
        {
          "output_type": "stream",
          "text": [
            "Pneumonia Training Samples - 1341 \n",
            "Normal Training Samples - 3875 \n",
            "Pneumonia Testing Samples - 234 \n",
            "Normal Testing Samples - 390 \n"
          ],
          "name": "stdout"
        }
      ]
    },
    {
      "cell_type": "code",
      "metadata": {
        "id": "VlfxSbl3GM1f",
        "colab_type": "code",
        "colab": {
          "base_uri": "https://localhost:8080/",
          "height": 376
        },
        "outputId": "dc6c510c-f52a-40aa-a82e-a3795677fc62"
      },
      "source": [
        "# add preprocessing layer to the front of VGG\n",
        "vgg = VGG16(input_shape=IMAGE_SIZE + [3], weights='imagenet', include_top=False)"
      ],
      "execution_count": 13,
      "outputs": [
        {
          "output_type": "stream",
          "text": [
            "WARNING:tensorflow:From /usr/local/lib/python3.6/dist-packages/keras/backend/tensorflow_backend.py:66: The name tf.get_default_graph is deprecated. Please use tf.compat.v1.get_default_graph instead.\n",
            "\n",
            "WARNING:tensorflow:From /usr/local/lib/python3.6/dist-packages/keras/backend/tensorflow_backend.py:541: The name tf.placeholder is deprecated. Please use tf.compat.v1.placeholder instead.\n",
            "\n",
            "WARNING:tensorflow:From /usr/local/lib/python3.6/dist-packages/keras/backend/tensorflow_backend.py:4432: The name tf.random_uniform is deprecated. Please use tf.random.uniform instead.\n",
            "\n",
            "WARNING:tensorflow:From /usr/local/lib/python3.6/dist-packages/keras/backend/tensorflow_backend.py:4267: The name tf.nn.max_pool is deprecated. Please use tf.nn.max_pool2d instead.\n",
            "\n",
            "Downloading data from https://github.com/fchollet/deep-learning-models/releases/download/v0.1/vgg16_weights_tf_dim_ordering_tf_kernels_notop.h5\n",
            "58892288/58889256 [==============================] - 2s 0us/step\n",
            "WARNING:tensorflow:From /usr/local/lib/python3.6/dist-packages/keras/backend/tensorflow_backend.py:190: The name tf.get_default_session is deprecated. Please use tf.compat.v1.get_default_session instead.\n",
            "\n",
            "WARNING:tensorflow:From /usr/local/lib/python3.6/dist-packages/keras/backend/tensorflow_backend.py:197: The name tf.ConfigProto is deprecated. Please use tf.compat.v1.ConfigProto instead.\n",
            "\n"
          ],
          "name": "stdout"
        }
      ]
    },
    {
      "cell_type": "code",
      "metadata": {
        "id": "BqrnLNO8GSKX",
        "colab_type": "code",
        "colab": {}
      },
      "source": [
        "# Don't train existing weights, as we are using imagenet\n",
        "for layer in vgg.layers:\n",
        "    layer.trainable = False"
      ],
      "execution_count": 0,
      "outputs": []
    },
    {
      "cell_type": "code",
      "metadata": {
        "id": "rtFvUPHa1Xce",
        "colab_type": "code",
        "colab": {
          "base_uri": "https://localhost:8080/",
          "height": 116
        },
        "outputId": "a25221c8-9c6f-42e3-ca9a-66fe6c47260d"
      },
      "source": [
        "# Number of classes\n",
        "directories = glob(train_path + '/*')\n",
        "directories"
      ],
      "execution_count": 16,
      "outputs": [
        {
          "output_type": "execute_result",
          "data": {
            "text/plain": [
              "['/content/chest_xray/train/PNEUMONIA', '/content/chest_xray/train/NORMAL']"
            ]
          },
          "metadata": {
            "tags": []
          },
          "execution_count": 16
        }
      ]
    },
    {
      "cell_type": "code",
      "metadata": {
        "id": "HE4jYXxKGVsk",
        "colab_type": "code",
        "colab": {}
      },
      "source": [
        "# Flattening the output of vgg and add length of directories in last layer\n",
        "x = Flatten()(vgg.output)\n",
        "prediction = Dense(len(directories), activation='softmax')(x)"
      ],
      "execution_count": 0,
      "outputs": []
    },
    {
      "cell_type": "code",
      "metadata": {
        "id": "EU2JufExGYSo",
        "colab_type": "code",
        "colab": {}
      },
      "source": [
        "# Create a model object, where input is bgg and output is prediction\n",
        "model = Model(inputs=vgg.input, outputs=prediction)"
      ],
      "execution_count": 0,
      "outputs": []
    },
    {
      "cell_type": "code",
      "metadata": {
        "id": "27T1pWaJGbB_",
        "colab_type": "code",
        "colab": {
          "base_uri": "https://localhost:8080/",
          "height": 944
        },
        "outputId": "0701c2fd-25cb-4baf-e9a9-3f2b3bc317bd"
      },
      "source": [
        "# View the structure of the model\n",
        "model.summary()"
      ],
      "execution_count": 20,
      "outputs": [
        {
          "output_type": "stream",
          "text": [
            "Model: \"model_2\"\n",
            "_________________________________________________________________\n",
            "Layer (type)                 Output Shape              Param #   \n",
            "=================================================================\n",
            "input_1 (InputLayer)         (None, 224, 224, 3)       0         \n",
            "_________________________________________________________________\n",
            "block1_conv1 (Conv2D)        (None, 224, 224, 64)      1792      \n",
            "_________________________________________________________________\n",
            "block1_conv2 (Conv2D)        (None, 224, 224, 64)      36928     \n",
            "_________________________________________________________________\n",
            "block1_pool (MaxPooling2D)   (None, 112, 112, 64)      0         \n",
            "_________________________________________________________________\n",
            "block2_conv1 (Conv2D)        (None, 112, 112, 128)     73856     \n",
            "_________________________________________________________________\n",
            "block2_conv2 (Conv2D)        (None, 112, 112, 128)     147584    \n",
            "_________________________________________________________________\n",
            "block2_pool (MaxPooling2D)   (None, 56, 56, 128)       0         \n",
            "_________________________________________________________________\n",
            "block3_conv1 (Conv2D)        (None, 56, 56, 256)       295168    \n",
            "_________________________________________________________________\n",
            "block3_conv2 (Conv2D)        (None, 56, 56, 256)       590080    \n",
            "_________________________________________________________________\n",
            "block3_conv3 (Conv2D)        (None, 56, 56, 256)       590080    \n",
            "_________________________________________________________________\n",
            "block3_pool (MaxPooling2D)   (None, 28, 28, 256)       0         \n",
            "_________________________________________________________________\n",
            "block4_conv1 (Conv2D)        (None, 28, 28, 512)       1180160   \n",
            "_________________________________________________________________\n",
            "block4_conv2 (Conv2D)        (None, 28, 28, 512)       2359808   \n",
            "_________________________________________________________________\n",
            "block4_conv3 (Conv2D)        (None, 28, 28, 512)       2359808   \n",
            "_________________________________________________________________\n",
            "block4_pool (MaxPooling2D)   (None, 14, 14, 512)       0         \n",
            "_________________________________________________________________\n",
            "block5_conv1 (Conv2D)        (None, 14, 14, 512)       2359808   \n",
            "_________________________________________________________________\n",
            "block5_conv2 (Conv2D)        (None, 14, 14, 512)       2359808   \n",
            "_________________________________________________________________\n",
            "block5_conv3 (Conv2D)        (None, 14, 14, 512)       2359808   \n",
            "_________________________________________________________________\n",
            "block5_pool (MaxPooling2D)   (None, 7, 7, 512)         0         \n",
            "_________________________________________________________________\n",
            "flatten_1 (Flatten)          (None, 25088)             0         \n",
            "_________________________________________________________________\n",
            "dense_1 (Dense)              (None, 2)                 50178     \n",
            "=================================================================\n",
            "Total params: 14,764,866\n",
            "Trainable params: 50,178\n",
            "Non-trainable params: 14,714,688\n",
            "_________________________________________________________________\n"
          ],
          "name": "stdout"
        }
      ]
    },
    {
      "cell_type": "markdown",
      "metadata": {
        "id": "SceeJHUr21oc",
        "colab_type": "text"
      },
      "source": [
        "This model has 16 layer of vgg, and the final or dense layer has just 2 nodes because of 2 different categories we have."
      ]
    },
    {
      "cell_type": "code",
      "metadata": {
        "id": "5PaJJZeNGdA2",
        "colab_type": "code",
        "colab": {
          "base_uri": "https://localhost:8080/",
          "height": 112
        },
        "outputId": "c611c830-8b39-4606-b31f-9af0aa85449e"
      },
      "source": [
        "# Compile the model using categoriacal_crossentropy, optimizer as adam and accuracy metrics\n",
        "model.compile(\n",
        "  loss='categorical_crossentropy',\n",
        "  optimizer='adam',\n",
        "  metrics=['accuracy']\n",
        ")"
      ],
      "execution_count": 21,
      "outputs": [
        {
          "output_type": "stream",
          "text": [
            "WARNING:tensorflow:From /usr/local/lib/python3.6/dist-packages/keras/optimizers.py:793: The name tf.train.Optimizer is deprecated. Please use tf.compat.v1.train.Optimizer instead.\n",
            "\n"
          ],
          "name": "stdout"
        }
      ]
    },
    {
      "cell_type": "markdown",
      "metadata": {
        "id": "-APjEgbQ4qO2",
        "colab_type": "text"
      },
      "source": [
        "##Train the model##"
      ]
    },
    {
      "cell_type": "code",
      "metadata": {
        "id": "wLl8X_9RGgw_",
        "colab_type": "code",
        "colab": {}
      },
      "source": [
        "# Train the model, before that add more images using resclaing\n",
        "from keras.preprocessing.image import ImageDataGenerator\n",
        "\n",
        "train_datagen = ImageDataGenerator(rescale = 1./255,\n",
        "                                   shear_range = 0.2,\n",
        "                                   zoom_range = 0.2,\n",
        "                                   horizontal_flip = True)\n",
        "\n",
        "test_datagen = ImageDataGenerator(rescale = 1./255)"
      ],
      "execution_count": 0,
      "outputs": []
    },
    {
      "cell_type": "code",
      "metadata": {
        "id": "SLS817apGjGQ",
        "colab_type": "code",
        "colab": {
          "base_uri": "https://localhost:8080/",
          "height": 116
        },
        "outputId": "e0ae5fba-3552-4e11-ca29-74191377ae71"
      },
      "source": [
        "# Prepare train and test set using categorical mode\n",
        "training_set = train_datagen.flow_from_directory(train_path,\n",
        "                                                 target_size = (224, 224),\n",
        "                                                 batch_size = 32,\n",
        "                                                 class_mode = 'categorical')"
      ],
      "execution_count": 24,
      "outputs": [
        {
          "output_type": "stream",
          "text": [
            "Found 5216 images belonging to 2 classes.\n"
          ],
          "name": "stdout"
        }
      ]
    },
    {
      "cell_type": "code",
      "metadata": {
        "id": "IjPvnJ4x5D1l",
        "colab_type": "code",
        "colab": {
          "base_uri": "https://localhost:8080/",
          "height": 96
        },
        "outputId": "b8cc8602-a9c7-4a0a-b586-272a9bf9c6e3"
      },
      "source": [
        "test_set = test_datagen.flow_from_directory(test_path,\n",
        "                                            target_size = (224, 224),\n",
        "                                            batch_size = 32,\n",
        "                                            class_mode = 'categorical')"
      ],
      "execution_count": 25,
      "outputs": [
        {
          "output_type": "stream",
          "text": [
            "Found 624 images belonging to 2 classes.\n"
          ],
          "name": "stdout"
        }
      ]
    },
    {
      "cell_type": "markdown",
      "metadata": {
        "id": "ppuD1xG55N2V",
        "colab_type": "text"
      },
      "source": [
        "It shows number of data sets belonging to two classes."
      ]
    },
    {
      "cell_type": "code",
      "metadata": {
        "id": "R_1CVPo9GmhE",
        "colab_type": "code",
        "colab": {
          "base_uri": "https://localhost:8080/",
          "height": 1000
        },
        "outputId": "b673f8f7-471b-410e-9bfc-1a1d47e53d1e"
      },
      "source": [
        "# Fit the model\n",
        "r = model.fit_generator(\n",
        "    training_set,\n",
        "    validation_data=test_set,\n",
        "    epochs=5,\n",
        "    steps_per_epoch=len(training_set),\n",
        "    validation_steps=len(test_set)\n",
        ")"
      ],
      "execution_count": 26,
      "outputs": [
        {
          "output_type": "stream",
          "text": [
            "WARNING:tensorflow:From /usr/local/lib/python3.6/dist-packages/tensorflow/python/ops/math_grad.py:1250: add_dispatch_support.<locals>.wrapper (from tensorflow.python.ops.array_ops) is deprecated and will be removed in a future version.\n",
            "Instructions for updating:\n",
            "Use tf.where in 2.0, which has the same broadcast rule as np.where\n",
            "Epoch 1/5\n",
            "163/163 [==============================] - 133s 814ms/step - loss: 0.1958 - acc: 0.9210 - val_loss: 0.3385 - val_acc: 0.8958\n",
            "Epoch 2/5\n",
            "163/163 [==============================] - 124s 758ms/step - loss: 0.1083 - acc: 0.9588 - val_loss: 0.2669 - val_acc: 0.9183\n",
            "Epoch 3/5\n",
            "163/163 [==============================] - 122s 748ms/step - loss: 0.0981 - acc: 0.9622 - val_loss: 0.2878 - val_acc: 0.9022\n",
            "Epoch 4/5\n",
            "163/163 [==============================] - 124s 758ms/step - loss: 0.0937 - acc: 0.9645 - val_loss: 0.5019 - val_acc: 0.8750\n",
            "Epoch 5/5\n",
            "163/163 [==============================] - 123s 752ms/step - loss: 0.0671 - acc: 0.9735 - val_loss: 0.3697 - val_acc: 0.8958\n"
          ],
          "name": "stdout"
        }
      ]
    },
    {
      "cell_type": "code",
      "metadata": {
        "id": "-dl7_HSoG1MW",
        "colab_type": "code",
        "colab": {
          "base_uri": "https://localhost:8080/",
          "height": 328
        },
        "outputId": "edcd0a22-974f-44b0-88ee-95356abf79af"
      },
      "source": [
        "# Plot the loss\n",
        "plt.plot(r.history['loss'], label='train loss')\n",
        "plt.plot(r.history['val_loss'], label='val loss')\n",
        "plt.legend()\n",
        "plt.show()\n",
        "plt.savefig('LossVal_loss')"
      ],
      "execution_count": 27,
      "outputs": [
        {
          "output_type": "display_data",
          "data": {
            "image/png": "[encoded data removed]",
            "text/plain": [
              "<Figure size 432x288 with 1 Axes>"
            ]
          },
          "metadata": {
            "tags": []
          }
        },
        {
          "output_type": "display_data",
          "data": {
            "text/plain": [
              "<Figure size 432x288 with 0 Axes>"
            ]
          },
          "metadata": {
            "tags": []
          }
        }
      ]
    },
    {
      "cell_type": "code",
      "metadata": {
        "id": "8vGzAVTJNRwl",
        "colab_type": "code",
        "outputId": "dd86b40b-15b5-4b0a-8469-39caf6564451",
        "colab": {
          "base_uri": "https://localhost:8080/",
          "height": 348
        }
      },
      "source": [
        "# Plot the accuracy\n",
        "plt.plot(r.history['acc'], label='train acc')\n",
        "plt.plot(r.history['val_acc'], label='val acc')\n",
        "plt.legend()\n",
        "plt.show()\n",
        "plt.savefig('AccVal_acc')"
      ],
      "execution_count": 28,
      "outputs": [
        {
          "output_type": "display_data",
          "data": {
            "image/png": "[encoded data removed]",
            "text/plain": [
              "<Figure size 432x288 with 1 Axes>"
            ]
          },
          "metadata": {
            "tags": []
          }
        },
        {
          "output_type": "display_data",
          "data": {
            "text/plain": [
              "<Figure size 432x288 with 0 Axes>"
            ]
          },
          "metadata": {
            "tags": []
          }
        }
      ]
    },
    {
      "cell_type": "code",
      "metadata": {
        "id": "pOJJVqjxNVQF",
        "colab_type": "code",
        "colab": {}
      },
      "source": [
        "# Save the model as a h5 file\n",
        "\n",
        "import tensorflow as tf\n",
        "from keras.models import load_model\n",
        "\n",
        "model.save('model_vgg16.h5')"
      ],
      "execution_count": 0,
      "outputs": []
    },
    {
      "cell_type": "markdown",
      "metadata": {
        "id": "JnrfHg3OOBtf",
        "colab_type": "text"
      },
      "source": [
        "##Predicting Models"
      ]
    },
    {
      "cell_type": "code",
      "metadata": {
        "id": "V3Vkq590OE6Z",
        "colab_type": "code",
        "colab": {}
      },
      "source": [
        "# Load the model\n",
        "from keras.models import load_model\n",
        "from keras.preprocessing import image\n",
        "from keras.applications.vgg16 import preprocess_input\n",
        "import numpy as np\n",
        "model = load_model('model_vgg16.h5')"
      ],
      "execution_count": 0,
      "outputs": []
    },
    {
      "cell_type": "code",
      "metadata": {
        "id": "NU2KexKLO2y5",
        "colab_type": "code",
        "outputId": "df863c53-fa87-47f1-c534-dd5ccee0804a",
        "colab": {
          "base_uri": "https://localhost:8080/",
          "height": 193
        }
      },
      "source": [
        "!ls /content/chest_xray/val/PNEUMONIA | head -n 5"
      ],
      "execution_count": 35,
      "outputs": [
        {
          "output_type": "stream",
          "text": [
            "person1946_bacteria_4874.jpeg\n",
            "person1946_bacteria_4875.jpeg\n",
            "person1947_bacteria_4876.jpeg\n",
            "person1949_bacteria_4880.jpeg\n",
            "person1950_bacteria_4881.jpeg\n"
          ],
          "name": "stdout"
        }
      ]
    },
    {
      "cell_type": "code",
      "metadata": {
        "id": "k9TXdYeL-pDU",
        "colab_type": "code",
        "colab": {
          "base_uri": "https://localhost:8080/",
          "height": 193
        },
        "outputId": "220d0300-a0e2-42b6-f974-185030888ecd"
      },
      "source": [
        "!ls /content/chest_xray/val/NORMAL | head -n 5"
      ],
      "execution_count": 36,
      "outputs": [
        {
          "output_type": "stream",
          "text": [
            "NORMAL2-IM-1427-0001.jpeg\n",
            "NORMAL2-IM-1430-0001.jpeg\n",
            "NORMAL2-IM-1431-0001.jpeg\n",
            "NORMAL2-IM-1436-0001.jpeg\n",
            "NORMAL2-IM-1437-0001.jpeg\n"
          ],
          "name": "stdout"
        }
      ]
    },
    {
      "cell_type": "code",
      "metadata": {
        "id": "H5KNPyKjOesu",
        "colab_type": "code",
        "colab": {
          "base_uri": "https://localhost:8080/",
          "height": 55
        },
        "outputId": "574d5182-e1fd-4ac4-8d36-34d33fc9a92d"
      },
      "source": [
        "# Load image for prediction\n",
        "img_path = val_path + 'PNEUMONIA/person1946_bacteria_4874.jpeg'\n",
        "\n",
        "img = image.load_img(img_path, target_size=(224, 224))\n",
        "x = image.img_to_array(img)\n",
        "x = np.expand_dims(x, axis=0)\n",
        "img_data = preprocess_input(x)\n",
        "classes = model.predict(img_data)\n",
        "classes"
      ],
      "execution_count": 33,
      "outputs": [
        {
          "output_type": "execute_result",
          "data": {
            "text/plain": [
              "array([[0., 1.]], dtype=float32)"
            ]
          },
          "metadata": {
            "tags": []
          },
          "execution_count": 33
        }
      ]
    },
    {
      "cell_type": "code",
      "metadata": {
        "id": "BTQlbwJqNaee",
        "colab_type": "code",
        "colab": {}
      },
      "source": [
        "# Similary you can use the same template for Vgg 19, Resnet50, Mobilenet. All you have to import the library. Below are the examples\n",
        "\n",
        "from keras.applications.vgg19 import VGG19\n",
        "from keras.applications.inception_v3 import InceptionV3"
      ],
      "execution_count": 0,
      "outputs": []
    },
    {
      "cell_type": "code",
      "metadata": {
        "id": "8ec5i4jtPK30",
        "colab_type": "code",
        "colab": {}
      },
      "source": [
        ""
      ],
      "execution_count": 0,
      "outputs": []
    }
  ]
}